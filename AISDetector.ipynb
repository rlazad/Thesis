{
 "cells": [
  {
   "cell_type": "code",
   "execution_count": 1,
   "metadata": {},
   "outputs": [],
   "source": [
    "import pandas as pd\n",
    "import os\n",
    "import numpy as np\n",
    "import geopandas as gpd\n",
    "import geoplot.crs as gcrs\n",
    "import geoplot as gplt\n",
    "import seaborn as sns\n",
    "import matplotlib.pyplot as plt\n",
    "from shapely.geometry import Point, Polygon\n",
    "import math\n",
    "from sklearn.ensemble import RandomForestClassifier\n",
    "from sklearn.svm import SVC\n",
    "from sklearn import svm\n",
    "from sklearn.neural_network import MLPClassifier\n",
    "from sklearn.metrics import confusion_matrix, classification_report\n",
    "from sklearn.preprocessing import StandardScaler, LabelEncoder\n",
    "from sklearn.model_selection import train_test_split\n",
    "import sys\n",
    "%matplotlib inline "
   ]
  },
  {
   "cell_type": "code",
   "execution_count": 2,
   "metadata": {},
   "outputs": [
    {
     "data": {
      "text/plain": [
       "['.ipynb_checkpoints',\n",
       " 'AISDetector.ipynb',\n",
       " 'bayarea_allwater-fgdc.xml',\n",
       " 'bayarea_allwater-iso19110.xml',\n",
       " 'bayarea_allwater-iso19139.xml',\n",
       " 'bayarea_allwater.dbf',\n",
       " 'bayarea_allwater.prj',\n",
       " 'bayarea_allwater.sbn',\n",
       " 'bayarea_allwater.sbx',\n",
       " 'bayarea_allwater.shp',\n",
       " 'bayarea_allwater.shp.xml',\n",
       " 'bayarea_allwater.shx',\n",
       " 'ca-county-boundaries.shapefile',\n",
       " 'CA_Counties_TIGER2016.cpg',\n",
       " 'CA_Counties_TIGER2016.dbf',\n",
       " 'CA_Counties_TIGER2016.prj',\n",
       " 'CA_Counties_TIGER2016.sbn',\n",
       " 'CA_Counties_TIGER2016.sbx',\n",
       " 'CA_Counties_TIGER2016.shp',\n",
       " 'CA_Counties_TIGER2016.shp.xml',\n",
       " 'CA_Counties_TIGER2016.shx',\n",
       " 'CTPPROAD-fgdc.xml',\n",
       " 'CTPPROAD-iso19110.xml',\n",
       " 'CTPPROAD-iso19139.xml',\n",
       " 'CTPPROAD.dbf',\n",
       " 'CTPPROAD.prj',\n",
       " 'CTPPROAD.sbn',\n",
       " 'CTPPROAD.sbx',\n",
       " 'CTPPROAD.shp',\n",
       " 'CTPPROAD.shp.xml',\n",
       " 'CTPPROAD.shx',\n",
       " 'data.zip',\n",
       " 'DataBase',\n",
       " 'geopandas',\n",
       " 'GIS_ADMIN_OCEAN_BAY.dbf',\n",
       " 'GIS_ADMIN_OCEAN_BAY.prj',\n",
       " 'GIS_ADMIN_OCEAN_BAY.sbn',\n",
       " 'GIS_ADMIN_OCEAN_BAY.sbx',\n",
       " 'GIS_ADMIN_OCEAN_BAY.shp',\n",
       " 'GIS_ADMIN_OCEAN_BAY.shp.xml',\n",
       " 'GIS_ADMIN_OCEAN_BAY.shx',\n",
       " 'Password_8180645.txt',\n",
       " 's7830z.cst',\n",
       " 's7830z.dbf',\n",
       " 's7830z.prj',\n",
       " 's7830z.shp',\n",
       " 's7830z.shx',\n",
       " 'wfsrequest.txt',\n",
       " 'WorkOrder8180645.csv.zip',\n",
       " 'WorkOrder8180645_NAIS_2018-01.xlsx',\n",
       " 'WorkOrder8180645_NAIS_2018-02.xlsx']"
      ]
     },
     "execution_count": 2,
     "metadata": {},
     "output_type": "execute_result"
    }
   ],
   "source": [
    "path = os.getcwd()\n",
    "files = os.listdir(path)\n",
    "files"
   ]
  },
  {
   "cell_type": "code",
   "execution_count": 3,
   "metadata": {},
   "outputs": [
    {
     "data": {
      "text/plain": [
       "['WorkOrder8180645_NAIS_2018-01.xlsx', 'WorkOrder8180645_NAIS_2018-02.xlsx']"
      ]
     },
     "execution_count": 3,
     "metadata": {},
     "output_type": "execute_result"
    }
   ],
   "source": [
    "files_csv = [f for f in files if f[-4:] == 'xlsx']\n",
    "files_csv"
   ]
  },
  {
   "cell_type": "code",
   "execution_count": null,
   "metadata": {},
   "outputs": [],
   "source": [
    "#df = pd.DataFrame()\n",
    "#for f in files_csv:\n",
    "#    data = pd.read_excel(f, sort=True)\n",
    "#    df = df.append(data)"
   ]
  },
  {
   "cell_type": "code",
   "execution_count": null,
   "metadata": {
    "scrolled": false
   },
   "outputs": [],
   "source": [
    "#df"
   ]
  },
  {
   "cell_type": "code",
   "execution_count": null,
   "metadata": {},
   "outputs": [],
   "source": [
    "#------------------------------------------------------------------------------------"
   ]
  },
  {
   "cell_type": "code",
   "execution_count": 4,
   "metadata": {},
   "outputs": [
    {
     "ename": "NameError",
     "evalue": "name 'gdp' is not defined",
     "output_type": "error",
     "traceback": [
      "\u001b[1;31m---------------------------------------------------------------------------\u001b[0m",
      "\u001b[1;31mNameError\u001b[0m                                 Traceback (most recent call last)",
      "\u001b[1;32m<ipython-input-4-62e801c0339b>\u001b[0m in \u001b[0;36m<module>\u001b[1;34m\u001b[0m\n\u001b[1;32m----> 1\u001b[1;33m \u001b[0mSan_fran\u001b[0m \u001b[1;33m=\u001b[0m \u001b[0mgdp\u001b[0m\u001b[1;33m.\u001b[0m\u001b[0mread_file\u001b[0m\u001b[1;33m(\u001b[0m\u001b[1;34m'bayarea_allwater.shp'\u001b[0m\u001b[1;33m)\u001b[0m\u001b[1;33m\u001b[0m\u001b[1;33m\u001b[0m\u001b[0m\n\u001b[0m\u001b[0;32m      2\u001b[0m \u001b[0mSan_fran\u001b[0m\u001b[1;33m\u001b[0m\u001b[1;33m\u001b[0m\u001b[0m\n",
      "\u001b[1;31mNameError\u001b[0m: name 'gdp' is not defined"
     ]
    }
   ],
   "source": [
    "San_fran = gdp.read_file('bayarea_allwater.shp')\n",
    "San_fran"
   ]
  },
  {
   "cell_type": "code",
   "execution_count": null,
   "metadata": {
    "scrolled": true
   },
   "outputs": [],
   "source": [
    "fig, ax = plt.subplots(figsize=(10,10))\n",
    "San_fran.plot(ax=ax, alpha =1, color = 'grey')"
   ]
  },
  {
   "cell_type": "code",
   "execution_count": null,
   "metadata": {},
   "outputs": [],
   "source": [
    "ship = pd.read_excel('WorkOrder8180645_NAIS_2018-01.xlsx')"
   ]
  },
  {
   "cell_type": "code",
   "execution_count": null,
   "metadata": {
    "scrolled": true
   },
   "outputs": [],
   "source": [
    "ship"
   ]
  },
  {
   "cell_type": "code",
   "execution_count": null,
   "metadata": {},
   "outputs": [],
   "source": [
    "crs = {'init': 'espg:4326'}\n",
    "geometry = [Point(xy) for xy in zip(ship['LON_AVG'], ship['LAT_AVG'])]\n",
    "\n",
    "geometry[:5]"
   ]
  },
  {
   "cell_type": "code",
   "execution_count": null,
   "metadata": {},
   "outputs": [],
   "source": [
    "geo_ship = gpd.GeoDataFrame(ship, crs=crs, geometry=geometry)\n",
    "geo_ship.head()"
   ]
  },
  {
   "cell_type": "code",
   "execution_count": null,
   "metadata": {},
   "outputs": [],
   "source": [
    "fig, ax = plt.subplots(figsize=(10,10))\n",
    "San_fran.plot(ax=ax, alpha=1, color = 'grey')\n",
    "geo_ship.plot(ax=ax, markersize = 10, color ='blue', marker= 'o', label= 'lat/lon')"
   ]
  },
  {
   "cell_type": "code",
   "execution_count": null,
   "metadata": {
    "scrolled": true
   },
   "outputs": [],
   "source": [
    "ship.info()"
   ]
  },
  {
   "cell_type": "code",
   "execution_count": null,
   "metadata": {},
   "outputs": [],
   "source": [
    "ship.groupby(\"DIM_\").size()\n",
    "#ship[\"CALL_SIGN\"].unique()\n",
    "#ship[\"NAME\"].unique()"
   ]
  },
  {
   "cell_type": "code",
   "execution_count": null,
   "metadata": {},
   "outputs": [],
   "source": [
    "#ship.groupby('CALL_SIGN').size()\n",
    "ship.groupby('DRAUGHT').size()"
   ]
  },
  {
   "cell_type": "code",
   "execution_count": null,
   "metadata": {},
   "outputs": [],
   "source": [
    "plt.scatter(ship['LAT_AVG'], ship['LON_AVG'])"
   ]
  },
  {
   "cell_type": "code",
   "execution_count": null,
   "metadata": {},
   "outputs": [],
   "source": [
    "Dft1 = ship[ship['DRAUGHT'] == '1.9']\n",
    "Dft9 = ship[ship['DRAUGHT'] == '9.0']\n",
    "fig = plt.figure(figsize = (8,6))\n",
    "ax1 = fig.add_subplot(111)\n",
    "\n",
    "ax1.scatter(Dft1['LAT_AVG'], Dft1['LON_AVG'], c='b', marker=\".\", label='Draft 1.9')\n",
    "ax1.scatter(Dft9['LAT_AVG'], Dft9['LON_AVG'], c='r', marker=\".\", label='Draft 9')\n",
    "plt.legend(loc='lower left');\n",
    "plt.show()"
   ]
  },
  {
   "cell_type": "code",
   "execution_count": null,
   "metadata": {},
   "outputs": [],
   "source": [
    "Dft9.groupby('CALL_SIGN').size()"
   ]
  },
  {
   "cell_type": "code",
   "execution_count": null,
   "metadata": {},
   "outputs": [],
   "source": [
    "ship[\"DAY\"] = ship['PERIOD'].dt.date\n",
    "ship.head()"
   ]
  },
  {
   "cell_type": "code",
   "execution_count": null,
   "metadata": {},
   "outputs": [],
   "source": [
    "ship['PERIOD'] = pd.to_datetime(ship['PERIOD'])\n",
    "#ship.tail(100)\n",
    "ship.info()"
   ]
  },
  {
   "cell_type": "code",
   "execution_count": null,
   "metadata": {},
   "outputs": [],
   "source": [
    "def extract_feature(ship):\n",
    "    distance = np.sqrt(((ship['LAT_AVG'].diff())**2) + ((ship['LON_AVG'].diff())**2))\n",
    "    interval = ship['PERIOD'].diff().astype(np.int64)/1e9\n",
    "    velocity = distance/interval\n",
    "    Vel_mean = velocity.mean()\n",
    "    Vel_stdv = velocity.std()\n",
    "    return pd.Series({'Vm' :Vel_mean, 'Vs': Vel_stdv})"
   ]
  },
  {
   "cell_type": "code",
   "execution_count": null,
   "metadata": {},
   "outputs": [],
   "source": [
    "ship.groupby([\"MMSI\", \"DAY\"]).apply(extract_feature)"
   ]
  },
  {
   "cell_type": "code",
   "execution_count": null,
   "metadata": {},
   "outputs": [],
   "source": [
    "############################\n",
    "############################\n",
    "############################\n",
    "############################"
   ]
  },
  {
   "cell_type": "code",
   "execution_count": null,
   "metadata": {},
   "outputs": [],
   "source": [
    "#preprocessing Data\n",
    "bins = (-0.5, 0.5, 1.5)\n",
    "group_names = ['bad', 'good']\n",
    "ship['legitimate'] = pd.cut(Mal['legitimate'], bins = bins, labels = group_names)\n",
    "ship['legitimate'].unique() "
   ]
  },
  {
   "cell_type": "code",
   "execution_count": null,
   "metadata": {},
   "outputs": [],
   "source": [
    "#differentiating good=1 and bad=0\n",
    "label_InitialSize = LabelEncoder() "
   ]
  },
  {
   "cell_type": "code",
   "execution_count": null,
   "metadata": {},
   "outputs": [],
   "source": [
    "Mal['legitimate'] = label_InitialSize.fit_transform(Mal['legitimate'])"
   ]
  },
  {
   "cell_type": "code",
   "execution_count": null,
   "metadata": {},
   "outputs": [],
   "source": [
    "Mal['legitimate'].value_counts()"
   ]
  },
  {
   "cell_type": "code",
   "execution_count": null,
   "metadata": {
    "scrolled": false
   },
   "outputs": [],
   "source": [
    "#sns.countplot(Mal['legitimate'])"
   ]
  },
  {
   "cell_type": "code",
   "execution_count": null,
   "metadata": {},
   "outputs": [],
   "source": []
  },
  {
   "cell_type": "code",
   "execution_count": null,
   "metadata": {},
   "outputs": [],
   "source": [
    "#Seperate our data set as response variable and feature variables\n",
    "#legitimate is the feature that will predict the quality\n",
    "X = Mal.drop('legitimate', axis = 1) #predict the quality \n",
    "y = Mal['legitimate'] #quality itself"
   ]
  },
  {
   "cell_type": "code",
   "execution_count": null,
   "metadata": {},
   "outputs": [],
   "source": [
    "#train and test splitting of data\n",
    "X_train, X_test, y_train, y_test = train_test_split(X, y, test_size = 0.2, random_state = 31)"
   ]
  },
  {
   "cell_type": "code",
   "execution_count": null,
   "metadata": {},
   "outputs": [],
   "source": [
    "len(X_train)"
   ]
  },
  {
   "cell_type": "code",
   "execution_count": null,
   "metadata": {},
   "outputs": [],
   "source": [
    "#to get optimized results\n",
    "#values are huge, biased results\n",
    "#scaler fixed that\n",
    "sc = StandardScaler()\n",
    "X_train = sc.fit_transform(X_train)\n",
    "X_test = sc.transform(X_test)"
   ]
  },
  {
   "cell_type": "code",
   "execution_count": null,
   "metadata": {},
   "outputs": [],
   "source": [
    "X_train[:2]"
   ]
  },
  {
   "cell_type": "markdown",
   "metadata": {},
   "source": [
    "# SVM Classifier"
   ]
  },
  {
   "cell_type": "code",
   "execution_count": null,
   "metadata": {},
   "outputs": [],
   "source": [
    "#Support Vector Model\n",
    "#better on smaller number\n",
    "#Faster and easiest to apply model on\n",
    "clf = svm.SVC()\n",
    "clf.fit(X_train, y_train)\n",
    "pred_clf = clf.predict(X_test)"
   ]
  },
  {
   "cell_type": "code",
   "execution_count": null,
   "metadata": {},
   "outputs": [],
   "source": [
    "print(classification_report(y_test, pred_clf))\n",
    "print(confusion_matrix(y_test, pred_clf))"
   ]
  },
  {
   "cell_type": "markdown",
   "metadata": {},
   "source": [
    "# Random Forest"
   ]
  },
  {
   "cell_type": "code",
   "execution_count": null,
   "metadata": {},
   "outputs": [],
   "source": [
    "#best for medium size data set\n",
    "rfc = RandomForestClassifier(n_estimators=500)\n",
    "rfc.fit(X_train, y_train)\n",
    "pred_rfc = rfc.predict(X_test)"
   ]
  },
  {
   "cell_type": "code",
   "execution_count": null,
   "metadata": {},
   "outputs": [],
   "source": [
    "#X_test[:20]"
   ]
  },
  {
   "cell_type": "code",
   "execution_count": null,
   "metadata": {},
   "outputs": [],
   "source": [
    "print(classification_report(y_test, pred_rfc))\n",
    "print(confusion_matrix(y_test, pred_rfc))"
   ]
  },
  {
   "cell_type": "markdown",
   "metadata": {},
   "source": [
    "# Neural Network"
   ]
  },
  {
   "cell_type": "code",
   "execution_count": null,
   "metadata": {},
   "outputs": [],
   "source": [
    "#deep learning\n",
    "#works best on large dataset and text data\n",
    "#hidden laers = nodes\n",
    "mlpc = MLPClassifier(hidden_layer_sizes=(11,11,11), max_iter = 500)\n",
    "mlpc.fit(X_train, y_train)\n",
    "pred_mlpc = mlpc.predict(X_test)"
   ]
  },
  {
   "cell_type": "code",
   "execution_count": null,
   "metadata": {},
   "outputs": [],
   "source": [
    "print(classification_report(y_test, pred_mlpc))\n",
    "print(confusion_matrix(y_test, pred_mlpc))"
   ]
  },
  {
   "cell_type": "code",
   "execution_count": null,
   "metadata": {},
   "outputs": [],
   "source": [
    "Mal.head()"
   ]
  },
  {
   "cell_type": "code",
   "execution_count": null,
   "metadata": {},
   "outputs": [],
   "source": [
    "XNewPre = [[332, 224, 258, 9, 0, 361984, 115712, 0, 6135, 4096, 372736, 4194304, 4096, 512, 0, 0, 1036288, 1024, 485887, 16, 1024, 1048576, 4096, 1048576, 4096, 0, 16]]\n",
    "ANewPre = [[332,224,3330,9,0,130560,19968,0,81778,4096,143360,771751936,4096,512,5,1,159744,1024,188943,2,33088,1048576,4096,1048576,4096,0,16\n",
    "]]\n",
    "DNewPre = [[332,224,33166,2,25,60928,55296,0,13848,4096,65536,4194304,4096,512,4,0,135168,1024,0,2,0,1048576,16384,1048576,4096,0,16\n",
    "]]\n",
    "XNewPre = sc.transform(XNewPre)\n",
    "ANewPre = sc.transform(ANewPre)\n",
    "DnewPre = sc.transform(DNewPre)\n",
    "BNewPre = rfc.predict(XNewPre)\n",
    "YNewPre = rfc.predict(ANewPre)\n",
    "QNewPre = rfc.predict(DNewPre)\n",
    "print(YNewPre, BNewPre, QNewPre)"
   ]
  },
  {
   "cell_type": "code",
   "execution_count": null,
   "metadata": {},
   "outputs": [],
   "source": [
    "NewMal = pd.read_csv('final.csv')"
   ]
  },
  {
   "cell_type": "code",
   "execution_count": null,
   "metadata": {},
   "outputs": [],
   "source": [
    "NewMal.head() "
   ]
  },
  {
   "cell_type": "code",
   "execution_count": null,
   "metadata": {
    "scrolled": true
   },
   "outputs": [],
   "source": [
    "k=[]\n",
    "for i in range(0, len(NewMal)):\n",
    "    k.append([])\n",
    "    k[i].append(NewMal.loc[i][0])\n",
    "\n",
    "NewMal = NewMal.drop('Name', axis=1)\n",
    "NewMal = NewMal.drop('md5', axis=1)\n",
    "NewMal = NewMal.drop('legitimate', axis=1)\n",
    "NewMal = NewMal.drop('Win32VersionValue', axis=1)\n",
    "NewMal.head()"
   ]
  },
  {
   "cell_type": "code",
   "execution_count": null,
   "metadata": {},
   "outputs": [],
   "source": [
    "X = []\n",
    "Y = []\n",
    "for i in range(0, len(NewMal)):\n",
    "    X.append([])\n",
    "    for x in NewMal:\n",
    "        X[i].append(NewMal.loc[i][x])\n",
    "    X[i]=[X[i]]\n",
    "    \n",
    "    Y = sc.transform(X[i])      #scalar transform before running\n",
    "    DNewPre = rfc.predict(Y)    #prediction value 1\n",
    "    print(k[i], 'is', DNewPre)\n",
    "\n",
    "        "
   ]
  },
  {
   "cell_type": "code",
   "execution_count": null,
   "metadata": {},
   "outputs": [],
   "source": [
    "print(NewMal.loc[1][0])"
   ]
  },
  {
   "cell_type": "code",
   "execution_count": null,
   "metadata": {},
   "outputs": [],
   "source": []
  }
 ],
 "metadata": {
  "kernelspec": {
   "display_name": "Python 3",
   "language": "python",
   "name": "python3"
  },
  "language_info": {
   "codemirror_mode": {
    "name": "ipython",
    "version": 3
   },
   "file_extension": ".py",
   "mimetype": "text/x-python",
   "name": "python",
   "nbconvert_exporter": "python",
   "pygments_lexer": "ipython3",
   "version": "3.7.1"
  }
 },
 "nbformat": 4,
 "nbformat_minor": 2
}
